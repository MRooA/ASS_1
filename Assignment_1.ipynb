{
 "cells": [
  {
   "cell_type": "raw",
   "id": "6271c258-2848-484c-81a5-449693fc3c79",
   "metadata": {},
   "source": [
    "1. \n",
    " a = ['Ashis',[1,2,3],22.50,(1,3,44)]"
   ]
  },
  {
   "cell_type": "raw",
   "id": "a9a22db7-227b-414b-b344-919bbca6674b",
   "metadata": {},
   "source": [
    "2.\n",
    "(i) str\n",
    "(ii) str\n",
    "(iii) list\n",
    "(iv) int"
   ]
  },
  {
   "cell_type": "raw",
   "id": "eb5eb325-1893-4650-befc-ef145f95590c",
   "metadata": {},
   "source": [
    "3.\n",
    "(i) FLOAT DIVISION\n",
    "(ii) MODULO OPERATOR\n",
    "(iii)INTEGER DIVISION\n",
    "(iv) EXPONENTIATION OPERATOR\n"
   ]
  },
  {
   "cell_type": "code",
   "execution_count": 1,
   "id": "41f0639d-2b30-4c35-84b6-3a3f80df84c5",
   "metadata": {},
   "outputs": [
    {
     "name": "stdout",
     "output_type": "stream",
     "text": [
      "1\n",
      "2\n",
      "3\n",
      "4\n",
      "5\n",
      "Ashis\n",
      "Bapan\n",
      "77.4\n",
      "2.5\n",
      "True\n",
      "(5+8j)\n"
     ]
    }
   ],
   "source": [
    "#4.\n",
    "L = [1,2,3,4,5,\"Ashis\",\"Bapan\",77.4,2.50,True,5+8j]\n",
    "\n",
    "for i in L :\n",
    "    print(i)\n"
   ]
  },
  {
   "cell_type": "code",
   "execution_count": 3,
   "id": "f6f0e47a-3922-42cd-8322-dad8d0a51712",
   "metadata": {},
   "outputs": [
    {
     "name": "stdout",
     "output_type": "stream",
     "text": [
      "A is divisible by B 1 times.\n"
     ]
    }
   ],
   "source": [
    "#5\n",
    "A = 42  # The number to be divided\n",
    "B = 7   # The divisor\n",
    "\n",
    "count = 0  # Counter for the number of divisions\n",
    "\n",
    "while A % B == 0:  # Repeat as long as A is divisible by B\n",
    "    A = A / B     # Divide A by B\n",
    "    count += 1    # Increment the count\n",
    "\n",
    "print(f\"A is divisible by B {count} times.\")\n"
   ]
  },
  {
   "cell_type": "code",
   "execution_count": 12,
   "id": "1bdfc97c-dbb0-49df-8e08-7e23df60c3dc",
   "metadata": {},
   "outputs": [
    {
     "name": "stdout",
     "output_type": "stream",
     "text": [
      "12 is divisible by 3\n",
      "9 is divisible by 3\n",
      "7 is not divisible by 3\n",
      "15 is divisible by 3\n",
      "36 is divisible by 3\n",
      "22 is not divisible by 3\n",
      "18 is divisible by 3\n",
      "14 is not divisible by 3\n",
      "21 is divisible by 3\n",
      "27 is divisible by 3\n",
      "4 is not divisible by 3\n",
      "6 is divisible by 3\n",
      "30 is divisible by 3\n",
      "8 is not divisible by 3\n",
      "17 is not divisible by 3\n",
      "33 is divisible by 3\n",
      "11 is not divisible by 3\n",
      "25 is not divisible by 3\n",
      "3 is divisible by 3\n",
      "16 is not divisible by 3\n",
      "20 is not divisible by 3\n",
      "13 is not divisible by 3\n",
      "24 is divisible by 3\n",
      "28 is not divisible by 3\n",
      "10 is not divisible by 3\n"
     ]
    }
   ],
   "source": [
    "#6\n",
    "numbers = [12, 9, 7, 15, 36, 22, 18, 14, 21, 27, 4, 6, 30, 8, 17, 33, 11, 25, 3, 16, 20, 13, 24, 28, 10]\n",
    "\n",
    "for num in numbers:\n",
    "    if num % 3 == 0:\n",
    "        print(f\"{num} is divisible by 3\")\n",
    "    else:\n",
    "        print(f\"{num} is not divisible by 3\")\n"
   ]
  },
  {
   "cell_type": "raw",
   "id": "7aa31ef8-8ddf-4b28-a041-1d7463cb6e83",
   "metadata": {},
   "source": [
    "7.\n",
    "Lists: Lists are mutable sequences in Python. Elements can be modified, added, or removed from a list. For example:"
   ]
  },
  {
   "cell_type": "code",
   "execution_count": 10,
   "id": "62296921-64b8-4db2-acd9-30c6f8e0e75c",
   "metadata": {},
   "outputs": [
    {
     "name": "stdout",
     "output_type": "stream",
     "text": [
      "[1, 2, 10, 4, 6]\n"
     ]
    }
   ],
   "source": [
    "numbers = [1, 2, 3, 4, 5]\n",
    "numbers[2] = 10  # Modifying an element in the list\n",
    "numbers.append(6)  # Adding an element to the end of the list\n",
    "numbers.remove(5)  # Removing an element from the list\n",
    "print(numbers)  # Output: [1, 2, 10, 4, 5, 6]\n"
   ]
  },
  {
   "cell_type": "raw",
   "id": "8db31915-adc8-4fc5-bab8-84ba81b555c6",
   "metadata": {},
   "source": [
    "Strings: Strings in many programming languages, including Python, are immutable. Once a string is created, its contents cannot be changed. Any operation that seems to modify a string actually creates a new string object. For example"
   ]
  },
  {
   "cell_type": "code",
   "execution_count": 11,
   "id": "bc7a9653-7461-4b83-9e2d-b4c16100ced3",
   "metadata": {},
   "outputs": [
    {
     "name": "stdout",
     "output_type": "stream",
     "text": [
      "Alice Smith\n"
     ]
    }
   ],
   "source": [
    "name = \"Alice\"\n",
    "name = name + \" Smith\"  # Concatenating strings creates a new string object\n",
    "print(name)  # Output: \"Alice Smith\"\n"
   ]
  },
  {
   "cell_type": "code",
   "execution_count": null,
   "id": "8c7cb173-cd2b-4263-9aad-82cd12779565",
   "metadata": {},
   "outputs": [],
   "source": []
  }
 ],
 "metadata": {
  "kernelspec": {
   "display_name": "Python 3 (ipykernel)",
   "language": "python",
   "name": "python3"
  },
  "language_info": {
   "codemirror_mode": {
    "name": "ipython",
    "version": 3
   },
   "file_extension": ".py",
   "mimetype": "text/x-python",
   "name": "python",
   "nbconvert_exporter": "python",
   "pygments_lexer": "ipython3",
   "version": "3.10.8"
  }
 },
 "nbformat": 4,
 "nbformat_minor": 5
}
